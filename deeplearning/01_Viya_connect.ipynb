{
 "cells": [
  {
   "cell_type": "markdown",
   "metadata": {},
   "source": [
    "# Connection Viya and Python"
   ]
  },
  {
   "cell_type": "code",
   "execution_count": 2,
   "metadata": {},
   "outputs": [],
   "source": [
    "# library import\n",
    "import os\n",
    "import numpy as np\n",
    "import scipy as sp\n",
    "import pandas as pd\n",
    "import tensorflow as tf\n",
    "\n",
    "%matplotlib inline\n",
    "import matplotlib.pyplot as plt\n"
   ]
  },
  {
   "cell_type": "code",
   "execution_count": 4,
   "metadata": {},
   "outputs": [
    {
     "name": "stdout",
     "output_type": "stream",
     "text": [
      "NOTE: Grid node action status report: 5 nodes, 9 total actions executed.\n",
      "[About]\n",
      "\n",
      " {'CAS': 'Cloud Analytic Services',\n",
      "  'Copyright': 'Copyright Â© 2014-2018 SAS Institute Inc. All Rights Reserved.',\n",
      "  'ServerTime': '2019-03-28T05:55:26Z',\n",
      "  'System': {'Hostname': 'casc',\n",
      "   'Linux Distribution': 'Red Hat Enterprise Linux Server release 7.4 (Maipo)',\n",
      "   'Model Number': 'x86_64',\n",
      "   'OS Family': 'LIN X64',\n",
      "   'OS Name': 'Linux',\n",
      "   'OS Release': '3.10.0-693.el7.x86_64',\n",
      "   'OS Version': '#1 SMP Thu Jul 6 19:56:57 EDT 2017'},\n",
      "  'Version': '3.04',\n",
      "  'VersionLong': 'V.03.04M0P07122018',\n",
      "  'license': {'expires': '30Jun2019:00:00:00',\n",
      "   'gracePeriod': 0,\n",
      "   'maxCPUs': 100,\n",
      "   'site': 'DEMO CENTER-VIYA',\n",
      "   'siteNum': 70232805,\n",
      "   'warningPeriod': 30}}\n",
      "\n",
      "[nodestatus]\n",
      "\n",
      " Node Status\n",
      " \n",
      "               name        role  uptime  running  stalled\n",
      " 0  casw1.kolon.com      worker   3.879        0        0\n",
      " 1  casw2.kolon.com      worker   3.878        0        0\n",
      " 2  casw3.kolon.com      worker   3.879        0        0\n",
      " 3  casw4.kolon.com      worker   3.878        0        0\n",
      " 4   casc.kolon.com  controller   3.920        0        0\n",
      "\n",
      "[server]\n",
      "\n",
      " Server Status\n",
      " \n",
      "    nodes  actions\n",
      " 0      5        9\n",
      "\n",
      "+ Elapsed: 0.006s, user: 0.00327s, sys: 0.00253s, mem: 1.38mb\n",
      "CAS('casc.kolon.com', 8777, 'viya_sask01', protocol='https', name='py-session-1', session='4457fe12-ac9c-ae4d-beda-3c076c0751a3')\n"
     ]
    }
   ],
   "source": [
    "import swat\n",
    "\n",
    "os.environ['CAS_CLIENT_SSL_CA_LIST'] = r'C:\\Users\\korbsl\\OneDrive - SAS\\Backup\\800_Install\\20_Python\\trustedcerts.pem'\n",
    "\n",
    "hostname = 'casc.kolon.com'\n",
    "port = 8777\n",
    "username = 'viya_sask01'\n",
    "password = 'viya'\n",
    "\n",
    "# Connect to CAS\n",
    "conn = swat.CAS(hostname = hostname,\n",
    "                port = port,\n",
    "                username = username,\n",
    "                password = password,\n",
    "                protocol = 'https')\n",
    "# serverStatus action in builtins action set\n",
    "print(conn.builtins.serverStatus())\n",
    "print(conn)\n"
   ]
  },
  {
   "cell_type": "code",
   "execution_count": null,
   "metadata": {
    "collapsed": true
   },
   "outputs": [],
   "source": [
    "#conn.terminate() "
   ]
  },
  {
   "cell_type": "code",
   "execution_count": 12,
   "metadata": {
    "scrolled": true
   },
   "outputs": [],
   "source": [
    "import dlpy"
   ]
  },
  {
   "cell_type": "code",
   "execution_count": 16,
   "metadata": {},
   "outputs": [],
   "source": [
    "# Import DLPy model functions\n",
    "from dlpy import Model, Sequential\n",
    "\n",
    "# Import DLPy layer functions\n",
    "from dlpy.layers import *\n",
    "\n",
    "# Import DLPy application functions\n",
    "from dlpy.applications import *"
   ]
  }
 ],
 "metadata": {
  "kernelspec": {
   "display_name": "Python 3",
   "language": "python",
   "name": "python3"
  },
  "language_info": {
   "codemirror_mode": {
    "name": "ipython",
    "version": 3
   },
   "file_extension": ".py",
   "mimetype": "text/x-python",
   "name": "python",
   "nbconvert_exporter": "python",
   "pygments_lexer": "ipython3",
   "version": "3.6.8"
  }
 },
 "nbformat": 4,
 "nbformat_minor": 2
}
