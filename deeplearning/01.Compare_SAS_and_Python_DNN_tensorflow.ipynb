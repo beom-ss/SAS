{
 "cells": [
  {
   "cell_type": "markdown",
   "metadata": {},
   "source": [
    "Compare with SAS and Python\n",
    "==============\n",
    "\n",
    "\n",
    "## DNN을 활용한 SAS & Python 비교\n",
    "SAS VDMML과 Python의 Tensorflow의 deep learning 성능을 비교하고자 한다. \n",
    "본 코드는 Python의 Tensorflow 코드이며, Deep Neural Network를 대상으로 비교를 실시하였다.\n",
    "SAS VDMML 코드는 아래 링크를 참조하면 된다.\n",
    "\n",
    "1. [load data](https://github.com/beom-ss/deeplearning_SAS/blob/master/vdmml_code/DL_01_load_data.sas)\n",
    "\n",
    "2. [03.DLNN](https://github.com/beom-ss/deeplearning_SAS/blob/master/vdmml_code/DL_03_DLNN.sas)\n",
    "\n",
    "3. [04.batchDLNN](https://github.com/beom-ss/deeplearning_SAS/blob/master/vdmml_code/DL_04_batchDLNN.sas)\n",
    "\n",
    "---- \n",
    "## Data Set\n",
    "Data는 **develop** Data를 사용하였고 (train, validation, test set)으로 Target별 층화추출되어 있다.\n",
    "\n",
    "| Variable | <center>Description</center>                     | Role     | Level    |\n",
    "|----------|--------------------------------------------------|----------|----------|\n",
    "| ATM      | Used ATM service (1=yes, 0=no)                   | Input    | Binary   |\n",
    "| ATMAmt   | ATM withdrawal amount                            | Input    | Interval | \n",
    "| AcctAge  | Age of oldest account in years                   | Input    | Interval | \n",
    "| Age      | Age of customer in years                         | Input    | Interval | \n",
    "| Branch   | Branch of Bank (B1 – B19)                        | Rejected | Nominal  |\n",
    "| CC       | Has credit card account (1=yes, 0=no)            | Input    | Binary   |\n",
    "| CCBal    | Credit card balance                              | Input    | Interval | \n",
    "| CCPurc   | Number of credit card purchases                  | Input    | Interval | \n",
    "| CD       | Has certificate of deposit (1=yes, 0=no)         | Input    | Binary   |\n",
    "| CDBal    | Certificate of deposit balance                   | Input    | Interval | \n",
    "| CRScore  | Credit score                                     | Input    | Interval | \n",
    "| CashBk   | Number of times customer received cash back      | Input    | Interval | \n",
    "| Checks   | Number of checks                                 | Input    | Interval | \n",
    "| DDA      | Checking account (1=yes, 0=no)                   | Input    | Binary   |\n",
    "| DDABal   | Checking account balance                         | Input    | Interval | \n",
    "| Dep      | Number of checking deposits                      | Input    | Interval | \n",
    "| DepAmt   | Amount deposited                                 | Input    | Interval | \n",
    "| DirDep   | Direct deposit (1=yes, 0=no)                     | Input    | Binary   |\n",
    "| HMOwn    | Owns home (1=yes, 0=no)                          | Input    | Binary   |\n",
    "| HMVal    | Home value in thousands of dollars               | Input    | Interval | \n",
    "| ILS      | Has installment loan (1=yes, 0=no)               | Input    | Binary   |\n",
    "| ILSBal   | Installment loan balance                         | Input    | Interval | \n",
    "| IRA      | Has retirement account (1=yes, 0=no)             | Input    | Binary   |\n",
    "| IRABal   | Retirement account balance                       | Input    | Interval | \n",
    "| InArea   | Local address (1=yes, 0=no)                      | Input    | Binary   |\n",
    "| Income   | Income in thousands of dollars                   | Input    | Interval | \n",
    "| Ins      | Purchase variable annuity account (1=yes, 0=no)  | Target   | Binary   |\n",
    "| Inv      | Has investment account (1=yes, 0=no)             | Input    | Binary   |\n",
    "| InvBal   | Investment account balance                       | Input    | Interval | \n",
    "| LOC      | Has line of credit (1=yes, 0=no)                 | Input    | Binary   |\n",
    "| LOCBal   | Line of credit balance                           | Input    | Interval | \n",
    "| LORes    | Length of residence in years                     | Input    | Interval | \n",
    "| MM       | Has money market account (1=yes, 0=no)           | Input    | Binary   |\n",
    "| MMBal    | Money market balance                             | Input    | Interval | \n",
    "| MMCred   | Number of money market credits                   | Input    | Interval | \n",
    "| MTG      | Has mortgage account (1=yes, 0=no)               | Input    | Binary   |\n",
    "| MTGBal   | Mortgage balance                                 | Input    | Interval | \n",
    "| Moved    | Recent address change (1=yes, 0=no)              | Input    | Binary   |\n",
    "| NSF      | Occurrence of insufficient funds (1=yes, 0=no)   | Input    | Binary   |\n",
    "| NSFAmt   | Amount of insufficient funds                     | Input    | Interval | \n",
    "| POS      | Number of point of sale transactions             | Input    | Interval | \n",
    "| POSAmt   | Amount in point of sale transactions             | Input    | Interval | \n",
    "| Phone    | Number of times customer used telephone banking  | Input    | Interval | \n",
    "| Res      | Area classification (R=rural, S=suburb, U=urban) | Rejected | Nominal  |\n",
    "| SDB      | Has a safety deposit box (1=yes, 0=no)           | Input    | Binary   |\n",
    "\n",
    "\n",
    "## 개발 환경\n",
    "    \n",
    "- SAS VDMML : `SAS Viya 3.4`\n",
    "- Python : `Python 3.6.8 :: conda 4.6.9`\n",
    "    \n",
    "    \n",
    "    \n",
    "-------\n",
    "## Contents\n",
    "\n",
    "1. [Setting environment for deep learning](#1.-Setting-environment-for-deep-learning)\n",
    "2. [Load Data](#2.-Load-Data)\n",
    "3. [Deep Learning Architecture](#3.-Deep-Learning-Architecture)\n",
    "4. [Deep Learning Training](#4.-Deep-Learning-Training)\n",
    "5. [Add Batch Normalization](#5.-Add-Batch-Normalization)\n",
    "6. [Deep Learning Architecture using CLASS](#6.-Deep-Learning-Architecture-using-CLASS)\n",
    "\n",
    "---"
   ]
  },
  {
   "cell_type": "markdown",
   "metadata": {},
   "source": [
    "## 1. Setting environment for deep learning"
   ]
  },
  {
   "cell_type": "code",
   "execution_count": 9,
   "metadata": {},
   "outputs": [],
   "source": [
    "# library import\n",
    "import os\n",
    "import time\n",
    "import numpy as np\n",
    "import scipy as sp\n",
    "import pandas as pd\n",
    "\n",
    "from IPython.display import clear_output\n",
    "\n",
    "import tensorflow as tf\n",
    "from tensorflow.keras import layers\n",
    "\n",
    "%matplotlib inline\n",
    "import matplotlib.pyplot as plt"
   ]
  },
  {
   "cell_type": "code",
   "execution_count": 10,
   "metadata": {},
   "outputs": [
    {
     "data": {
      "text/plain": [
       "'1.13.1'"
      ]
     },
     "execution_count": 10,
     "metadata": {},
     "output_type": "execute_result"
    }
   ],
   "source": [
    "# tensorflow 2.0 style로 코드를 작성하고자 할 때 사용(API를 제공)\n",
    "# 2.0 style에서는 session으로 실행할 필요가 없음\n",
    "tf.enable_eager_execution()\n",
    "tf.__version__"
   ]
  },
  {
   "cell_type": "markdown",
   "metadata": {},
   "source": [
    "## 2. Load Data"
   ]
  },
  {
   "cell_type": "markdown",
   "metadata": {},
   "source": [
    "### 2.1. csv to pandas dataframe"
   ]
  },
  {
   "cell_type": "code",
   "execution_count": 11,
   "metadata": {},
   "outputs": [
    {
     "data": {
      "text/plain": [
       "'C:\\\\Users\\\\korbsl\\\\OneDrive - SAS\\\\Backup\\\\500_Practice\\\\20_Python\\\\1_Deep_learning\\\\VDMML_training'"
      ]
     },
     "execution_count": 11,
     "metadata": {},
     "output_type": "execute_result"
    }
   ],
   "source": [
    "path_base = os.getcwd()\n",
    "path_base\n",
    "# os.listdir(path_base)"
   ]
  },
  {
   "cell_type": "code",
   "execution_count": 12,
   "metadata": {},
   "outputs": [],
   "source": [
    "file_path = 'C:\\\\Users\\\\korbsl\\\\OneDrive - SAS\\Backup\\\\500_Practice\\\\10_SAS\\\\1_Deep_learning\\\\vdmml_data'"
   ]
  },
  {
   "cell_type": "code",
   "execution_count": 13,
   "metadata": {},
   "outputs": [],
   "source": [
    "# pandas로 csv file 호출\n",
    "train_develop = pd.read_csv(file_path+'\\\\train_develop.csv', sep=',', header=0)\n",
    "valid_develop = pd.read_csv(file_path+'\\\\valid_develop.csv', sep=',', header=0)\n",
    "test_develop  = pd.read_csv(file_path+'\\\\test_develop.csv', sep=',', header=0)"
   ]
  },
  {
   "cell_type": "markdown",
   "metadata": {},
   "source": [
    "### 2.2. Check Data type"
   ]
  },
  {
   "cell_type": "code",
   "execution_count": 14,
   "metadata": {
    "scrolled": true
   },
   "outputs": [
    {
     "data": {
      "text/html": [
       "<div>\n",
       "<style scoped>\n",
       "    .dataframe tbody tr th:only-of-type {\n",
       "        vertical-align: middle;\n",
       "    }\n",
       "\n",
       "    .dataframe tbody tr th {\n",
       "        vertical-align: top;\n",
       "    }\n",
       "\n",
       "    .dataframe thead th {\n",
       "        text-align: right;\n",
       "    }\n",
       "</style>\n",
       "<table border=\"1\" class=\"dataframe\">\n",
       "  <thead>\n",
       "    <tr style=\"text-align: right;\">\n",
       "      <th></th>\n",
       "      <th></th>\n",
       "      <th>AcctAge</th>\n",
       "      <th>DDA</th>\n",
       "      <th>DDABal</th>\n",
       "      <th>CashBk</th>\n",
       "      <th>Checks</th>\n",
       "      <th>DirDep</th>\n",
       "      <th>NSF</th>\n",
       "      <th>NSFAmt</th>\n",
       "      <th>Phone</th>\n",
       "      <th>Teller</th>\n",
       "      <th>...</th>\n",
       "      <th>Moved</th>\n",
       "      <th>InArea</th>\n",
       "      <th>Ins</th>\n",
       "      <th>Branch</th>\n",
       "      <th>Res</th>\n",
       "      <th>Dep</th>\n",
       "      <th>DepAmt</th>\n",
       "      <th>Inv</th>\n",
       "      <th>InvBal</th>\n",
       "      <th>_PartInd_</th>\n",
       "    </tr>\n",
       "    <tr>\n",
       "      <th>part</th>\n",
       "      <th>row</th>\n",
       "      <th></th>\n",
       "      <th></th>\n",
       "      <th></th>\n",
       "      <th></th>\n",
       "      <th></th>\n",
       "      <th></th>\n",
       "      <th></th>\n",
       "      <th></th>\n",
       "      <th></th>\n",
       "      <th></th>\n",
       "      <th></th>\n",
       "      <th></th>\n",
       "      <th></th>\n",
       "      <th></th>\n",
       "      <th></th>\n",
       "      <th></th>\n",
       "      <th></th>\n",
       "      <th></th>\n",
       "      <th></th>\n",
       "      <th></th>\n",
       "      <th></th>\n",
       "    </tr>\n",
       "  </thead>\n",
       "  <tbody>\n",
       "    <tr>\n",
       "      <th rowspan=\"2\" valign=\"top\">train</th>\n",
       "      <th>0</th>\n",
       "      <td>0.7</td>\n",
       "      <td>1</td>\n",
       "      <td>1986.81</td>\n",
       "      <td>0</td>\n",
       "      <td>1</td>\n",
       "      <td>1</td>\n",
       "      <td>0</td>\n",
       "      <td>0.00</td>\n",
       "      <td>0</td>\n",
       "      <td>0</td>\n",
       "      <td>...</td>\n",
       "      <td>0</td>\n",
       "      <td>1</td>\n",
       "      <td>0</td>\n",
       "      <td>B2</td>\n",
       "      <td>R</td>\n",
       "      <td>1</td>\n",
       "      <td>446.93</td>\n",
       "      <td>0</td>\n",
       "      <td>0.0</td>\n",
       "      <td>1</td>\n",
       "    </tr>\n",
       "    <tr>\n",
       "      <th>1</th>\n",
       "      <td>4.1</td>\n",
       "      <td>0</td>\n",
       "      <td>0.00</td>\n",
       "      <td>0</td>\n",
       "      <td>0</td>\n",
       "      <td>0</td>\n",
       "      <td>0</td>\n",
       "      <td>0.00</td>\n",
       "      <td>0</td>\n",
       "      <td>0</td>\n",
       "      <td>...</td>\n",
       "      <td>0</td>\n",
       "      <td>1</td>\n",
       "      <td>1</td>\n",
       "      <td>B3</td>\n",
       "      <td>S</td>\n",
       "      <td>0</td>\n",
       "      <td>0.00</td>\n",
       "      <td>0</td>\n",
       "      <td>0.0</td>\n",
       "      <td>1</td>\n",
       "    </tr>\n",
       "    <tr>\n",
       "      <th rowspan=\"2\" valign=\"top\">valid</th>\n",
       "      <th>0</th>\n",
       "      <td>6.7</td>\n",
       "      <td>1</td>\n",
       "      <td>2813.45</td>\n",
       "      <td>0</td>\n",
       "      <td>2</td>\n",
       "      <td>0</td>\n",
       "      <td>0</td>\n",
       "      <td>0.00</td>\n",
       "      <td>0</td>\n",
       "      <td>5</td>\n",
       "      <td>...</td>\n",
       "      <td>0</td>\n",
       "      <td>1</td>\n",
       "      <td>1</td>\n",
       "      <td>B1</td>\n",
       "      <td>S</td>\n",
       "      <td>2</td>\n",
       "      <td>1208.94</td>\n",
       "      <td>0</td>\n",
       "      <td>0.0</td>\n",
       "      <td>2</td>\n",
       "    </tr>\n",
       "    <tr>\n",
       "      <th>1</th>\n",
       "      <td>0.8</td>\n",
       "      <td>1</td>\n",
       "      <td>190.03</td>\n",
       "      <td>0</td>\n",
       "      <td>1</td>\n",
       "      <td>0</td>\n",
       "      <td>1</td>\n",
       "      <td>5.65</td>\n",
       "      <td>0</td>\n",
       "      <td>0</td>\n",
       "      <td>...</td>\n",
       "      <td>0</td>\n",
       "      <td>1</td>\n",
       "      <td>0</td>\n",
       "      <td>B14</td>\n",
       "      <td>S</td>\n",
       "      <td>3</td>\n",
       "      <td>880.25</td>\n",
       "      <td>0</td>\n",
       "      <td>0.0</td>\n",
       "      <td>2</td>\n",
       "    </tr>\n",
       "    <tr>\n",
       "      <th rowspan=\"2\" valign=\"top\">test</th>\n",
       "      <th>0</th>\n",
       "      <td>0.3</td>\n",
       "      <td>1</td>\n",
       "      <td>419.27</td>\n",
       "      <td>0</td>\n",
       "      <td>0</td>\n",
       "      <td>0</td>\n",
       "      <td>0</td>\n",
       "      <td>0.00</td>\n",
       "      <td>0</td>\n",
       "      <td>0</td>\n",
       "      <td>...</td>\n",
       "      <td>0</td>\n",
       "      <td>1</td>\n",
       "      <td>1</td>\n",
       "      <td>B17</td>\n",
       "      <td>R</td>\n",
       "      <td>2</td>\n",
       "      <td>1170.06</td>\n",
       "      <td>0</td>\n",
       "      <td>0.0</td>\n",
       "      <td>0</td>\n",
       "    </tr>\n",
       "    <tr>\n",
       "      <th>1</th>\n",
       "      <td>0.5</td>\n",
       "      <td>1</td>\n",
       "      <td>1594.84</td>\n",
       "      <td>0</td>\n",
       "      <td>1</td>\n",
       "      <td>0</td>\n",
       "      <td>0</td>\n",
       "      <td>0.00</td>\n",
       "      <td>0</td>\n",
       "      <td>1</td>\n",
       "      <td>...</td>\n",
       "      <td>0</td>\n",
       "      <td>1</td>\n",
       "      <td>0</td>\n",
       "      <td>B1</td>\n",
       "      <td>S</td>\n",
       "      <td>1</td>\n",
       "      <td>1144.24</td>\n",
       "      <td>0</td>\n",
       "      <td>0.0</td>\n",
       "      <td>0</td>\n",
       "    </tr>\n",
       "  </tbody>\n",
       "</table>\n",
       "<p>6 rows × 49 columns</p>\n",
       "</div>"
      ],
      "text/plain": [
       "           AcctAge  DDA   DDABal  CashBk  Checks  DirDep  NSF  NSFAmt  Phone  \\\n",
       "part  row                                                                      \n",
       "train 0        0.7    1  1986.81       0       1       1    0    0.00      0   \n",
       "      1        4.1    0     0.00       0       0       0    0    0.00      0   \n",
       "valid 0        6.7    1  2813.45       0       2       0    0    0.00      0   \n",
       "      1        0.8    1   190.03       0       1       0    1    5.65      0   \n",
       "test  0        0.3    1   419.27       0       0       0    0    0.00      0   \n",
       "      1        0.5    1  1594.84       0       1       0    0    0.00      0   \n",
       "\n",
       "           Teller  ...  Moved  InArea  Ins  Branch  Res  Dep   DepAmt  Inv  \\\n",
       "part  row          ...                                                       \n",
       "train 0         0  ...      0       1    0      B2    R    1   446.93    0   \n",
       "      1         0  ...      0       1    1      B3    S    0     0.00    0   \n",
       "valid 0         5  ...      0       1    1      B1    S    2  1208.94    0   \n",
       "      1         0  ...      0       1    0     B14    S    3   880.25    0   \n",
       "test  0         0  ...      0       1    1     B17    R    2  1170.06    0   \n",
       "      1         1  ...      0       1    0      B1    S    1  1144.24    0   \n",
       "\n",
       "           InvBal  _PartInd_  \n",
       "part  row                     \n",
       "train 0       0.0          1  \n",
       "      1       0.0          1  \n",
       "valid 0       0.0          2  \n",
       "      1       0.0          2  \n",
       "test  0       0.0          0  \n",
       "      1       0.0          0  \n",
       "\n",
       "[6 rows x 49 columns]"
      ]
     },
     "execution_count": 14,
     "metadata": {},
     "output_type": "execute_result"
    }
   ],
   "source": [
    "# train, valid, test set head 출력\n",
    "pd.concat([train_develop.head(2)\n",
    "        ,valid_develop.head(2)\n",
    "        ,test_develop.head(2)], axis=0, keys=['train','valid','test'], names=['part','row'])"
   ]
  },
  {
   "cell_type": "code",
   "execution_count": 15,
   "metadata": {
    "scrolled": true
   },
   "outputs": [
    {
     "data": {
      "text/html": [
       "<div>\n",
       "<style scoped>\n",
       "    .dataframe tbody tr th:only-of-type {\n",
       "        vertical-align: middle;\n",
       "    }\n",
       "\n",
       "    .dataframe tbody tr th {\n",
       "        vertical-align: top;\n",
       "    }\n",
       "\n",
       "    .dataframe thead th {\n",
       "        text-align: right;\n",
       "    }\n",
       "</style>\n",
       "<table border=\"1\" class=\"dataframe\">\n",
       "  <thead>\n",
       "    <tr style=\"text-align: right;\">\n",
       "      <th></th>\n",
       "      <th>variable</th>\n",
       "      <th>type</th>\n",
       "    </tr>\n",
       "  </thead>\n",
       "  <tbody>\n",
       "    <tr>\n",
       "      <th>0</th>\n",
       "      <td>AcctAge</td>\n",
       "      <td>float64</td>\n",
       "    </tr>\n",
       "    <tr>\n",
       "      <th>1</th>\n",
       "      <td>DDA</td>\n",
       "      <td>int64</td>\n",
       "    </tr>\n",
       "    <tr>\n",
       "      <th>2</th>\n",
       "      <td>DDABal</td>\n",
       "      <td>float64</td>\n",
       "    </tr>\n",
       "    <tr>\n",
       "      <th>3</th>\n",
       "      <td>CashBk</td>\n",
       "      <td>int64</td>\n",
       "    </tr>\n",
       "    <tr>\n",
       "      <th>4</th>\n",
       "      <td>Checks</td>\n",
       "      <td>int64</td>\n",
       "    </tr>\n",
       "    <tr>\n",
       "      <th>5</th>\n",
       "      <td>DirDep</td>\n",
       "      <td>int64</td>\n",
       "    </tr>\n",
       "    <tr>\n",
       "      <th>6</th>\n",
       "      <td>NSF</td>\n",
       "      <td>int64</td>\n",
       "    </tr>\n",
       "    <tr>\n",
       "      <th>7</th>\n",
       "      <td>NSFAmt</td>\n",
       "      <td>float64</td>\n",
       "    </tr>\n",
       "    <tr>\n",
       "      <th>8</th>\n",
       "      <td>Phone</td>\n",
       "      <td>int64</td>\n",
       "    </tr>\n",
       "    <tr>\n",
       "      <th>9</th>\n",
       "      <td>Teller</td>\n",
       "      <td>int64</td>\n",
       "    </tr>\n",
       "    <tr>\n",
       "      <th>10</th>\n",
       "      <td>Sav</td>\n",
       "      <td>int64</td>\n",
       "    </tr>\n",
       "    <tr>\n",
       "      <th>11</th>\n",
       "      <td>SavBal</td>\n",
       "      <td>float64</td>\n",
       "    </tr>\n",
       "    <tr>\n",
       "      <th>12</th>\n",
       "      <td>ATM</td>\n",
       "      <td>int64</td>\n",
       "    </tr>\n",
       "    <tr>\n",
       "      <th>13</th>\n",
       "      <td>ATMAmt</td>\n",
       "      <td>float64</td>\n",
       "    </tr>\n",
       "    <tr>\n",
       "      <th>14</th>\n",
       "      <td>POS</td>\n",
       "      <td>int64</td>\n",
       "    </tr>\n",
       "    <tr>\n",
       "      <th>15</th>\n",
       "      <td>POSAmt</td>\n",
       "      <td>float64</td>\n",
       "    </tr>\n",
       "    <tr>\n",
       "      <th>16</th>\n",
       "      <td>CD</td>\n",
       "      <td>int64</td>\n",
       "    </tr>\n",
       "    <tr>\n",
       "      <th>17</th>\n",
       "      <td>CDBal</td>\n",
       "      <td>int64</td>\n",
       "    </tr>\n",
       "    <tr>\n",
       "      <th>18</th>\n",
       "      <td>IRA</td>\n",
       "      <td>int64</td>\n",
       "    </tr>\n",
       "    <tr>\n",
       "      <th>19</th>\n",
       "      <td>IRABal</td>\n",
       "      <td>float64</td>\n",
       "    </tr>\n",
       "    <tr>\n",
       "      <th>20</th>\n",
       "      <td>LOC</td>\n",
       "      <td>int64</td>\n",
       "    </tr>\n",
       "    <tr>\n",
       "      <th>21</th>\n",
       "      <td>LOCBal</td>\n",
       "      <td>float64</td>\n",
       "    </tr>\n",
       "    <tr>\n",
       "      <th>22</th>\n",
       "      <td>ILS</td>\n",
       "      <td>int64</td>\n",
       "    </tr>\n",
       "    <tr>\n",
       "      <th>23</th>\n",
       "      <td>ILSBal</td>\n",
       "      <td>float64</td>\n",
       "    </tr>\n",
       "    <tr>\n",
       "      <th>24</th>\n",
       "      <td>MM</td>\n",
       "      <td>int64</td>\n",
       "    </tr>\n",
       "    <tr>\n",
       "      <th>25</th>\n",
       "      <td>MMBal</td>\n",
       "      <td>float64</td>\n",
       "    </tr>\n",
       "    <tr>\n",
       "      <th>26</th>\n",
       "      <td>MMCred</td>\n",
       "      <td>int64</td>\n",
       "    </tr>\n",
       "    <tr>\n",
       "      <th>27</th>\n",
       "      <td>MTG</td>\n",
       "      <td>int64</td>\n",
       "    </tr>\n",
       "    <tr>\n",
       "      <th>28</th>\n",
       "      <td>MTGBal</td>\n",
       "      <td>float64</td>\n",
       "    </tr>\n",
       "    <tr>\n",
       "      <th>29</th>\n",
       "      <td>CC</td>\n",
       "      <td>int64</td>\n",
       "    </tr>\n",
       "    <tr>\n",
       "      <th>30</th>\n",
       "      <td>CCBal</td>\n",
       "      <td>float64</td>\n",
       "    </tr>\n",
       "    <tr>\n",
       "      <th>31</th>\n",
       "      <td>CCPurc</td>\n",
       "      <td>int64</td>\n",
       "    </tr>\n",
       "    <tr>\n",
       "      <th>32</th>\n",
       "      <td>SDB</td>\n",
       "      <td>int64</td>\n",
       "    </tr>\n",
       "    <tr>\n",
       "      <th>33</th>\n",
       "      <td>Income</td>\n",
       "      <td>int64</td>\n",
       "    </tr>\n",
       "    <tr>\n",
       "      <th>34</th>\n",
       "      <td>HMOwn</td>\n",
       "      <td>int64</td>\n",
       "    </tr>\n",
       "    <tr>\n",
       "      <th>35</th>\n",
       "      <td>LORes</td>\n",
       "      <td>float64</td>\n",
       "    </tr>\n",
       "    <tr>\n",
       "      <th>36</th>\n",
       "      <td>HMVal</td>\n",
       "      <td>int64</td>\n",
       "    </tr>\n",
       "    <tr>\n",
       "      <th>37</th>\n",
       "      <td>Age</td>\n",
       "      <td>int64</td>\n",
       "    </tr>\n",
       "    <tr>\n",
       "      <th>38</th>\n",
       "      <td>CRScore</td>\n",
       "      <td>int64</td>\n",
       "    </tr>\n",
       "    <tr>\n",
       "      <th>39</th>\n",
       "      <td>Moved</td>\n",
       "      <td>int64</td>\n",
       "    </tr>\n",
       "    <tr>\n",
       "      <th>40</th>\n",
       "      <td>InArea</td>\n",
       "      <td>int64</td>\n",
       "    </tr>\n",
       "    <tr>\n",
       "      <th>41</th>\n",
       "      <td>Ins</td>\n",
       "      <td>int64</td>\n",
       "    </tr>\n",
       "    <tr>\n",
       "      <th>42</th>\n",
       "      <td>Branch</td>\n",
       "      <td>object</td>\n",
       "    </tr>\n",
       "    <tr>\n",
       "      <th>43</th>\n",
       "      <td>Res</td>\n",
       "      <td>object</td>\n",
       "    </tr>\n",
       "    <tr>\n",
       "      <th>44</th>\n",
       "      <td>Dep</td>\n",
       "      <td>int64</td>\n",
       "    </tr>\n",
       "    <tr>\n",
       "      <th>45</th>\n",
       "      <td>DepAmt</td>\n",
       "      <td>float64</td>\n",
       "    </tr>\n",
       "    <tr>\n",
       "      <th>46</th>\n",
       "      <td>Inv</td>\n",
       "      <td>int64</td>\n",
       "    </tr>\n",
       "    <tr>\n",
       "      <th>47</th>\n",
       "      <td>InvBal</td>\n",
       "      <td>float64</td>\n",
       "    </tr>\n",
       "    <tr>\n",
       "      <th>48</th>\n",
       "      <td>_PartInd_</td>\n",
       "      <td>int64</td>\n",
       "    </tr>\n",
       "  </tbody>\n",
       "</table>\n",
       "</div>"
      ],
      "text/plain": [
       "     variable     type\n",
       "0     AcctAge  float64\n",
       "1         DDA    int64\n",
       "2      DDABal  float64\n",
       "3      CashBk    int64\n",
       "4      Checks    int64\n",
       "5      DirDep    int64\n",
       "6         NSF    int64\n",
       "7      NSFAmt  float64\n",
       "8       Phone    int64\n",
       "9      Teller    int64\n",
       "10        Sav    int64\n",
       "11     SavBal  float64\n",
       "12        ATM    int64\n",
       "13     ATMAmt  float64\n",
       "14        POS    int64\n",
       "15     POSAmt  float64\n",
       "16         CD    int64\n",
       "17      CDBal    int64\n",
       "18        IRA    int64\n",
       "19     IRABal  float64\n",
       "20        LOC    int64\n",
       "21     LOCBal  float64\n",
       "22        ILS    int64\n",
       "23     ILSBal  float64\n",
       "24         MM    int64\n",
       "25      MMBal  float64\n",
       "26     MMCred    int64\n",
       "27        MTG    int64\n",
       "28     MTGBal  float64\n",
       "29         CC    int64\n",
       "30      CCBal  float64\n",
       "31     CCPurc    int64\n",
       "32        SDB    int64\n",
       "33     Income    int64\n",
       "34      HMOwn    int64\n",
       "35      LORes  float64\n",
       "36      HMVal    int64\n",
       "37        Age    int64\n",
       "38    CRScore    int64\n",
       "39      Moved    int64\n",
       "40     InArea    int64\n",
       "41        Ins    int64\n",
       "42     Branch   object\n",
       "43        Res   object\n",
       "44        Dep    int64\n",
       "45     DepAmt  float64\n",
       "46        Inv    int64\n",
       "47     InvBal  float64\n",
       "48  _PartInd_    int64"
      ]
     },
     "execution_count": 15,
     "metadata": {},
     "output_type": "execute_result"
    }
   ],
   "source": [
    "pd.DataFrame(train_develop.dtypes.to_dict().items(), columns=['variable', 'type'])"
   ]
  },
  {
   "cell_type": "markdown",
   "metadata": {},
   "source": [
    "### 2.3. convert Data type"
   ]
  },
  {
   "cell_type": "code",
   "execution_count": 16,
   "metadata": {},
   "outputs": [],
   "source": [
    "### data import code\n",
    "\n",
    "def data_import(in_df):\n",
    "    \n",
    "#     path = 'C:\\\\beom\\\\_final_folder\\\\04_training\\\\01_VDMML\\\\1_deeplearning\\\\DL_VDMML_EXAM_DATA\\\\'\n",
    "    path = file_path\n",
    "    df = in_df\n",
    "    \n",
    "    # pandas로 csv file 호출\n",
    "    df = pd.read_csv((path+'\\\\'+df+'.csv'), sep=',', header=0)\n",
    "\n",
    "    # 변수 형태가 잘못 들어간 case 변경\n",
    "    cat_vars = ['Branch','Res','Ins','DDA','DirDep','NSF','Sav','ATM','CD','IRA'\n",
    "                    ,'LOC','ILS','MM','MTG','CC','SDB','HMOwn','Moved','InArea','Inv']\n",
    "    for x in cat_vars:\n",
    "        df[x] = df[x].astype(str)\n",
    "    \n",
    "    # 변수 유형별 리스트 셋 정의\n",
    "    feature_list = [name for name in df.columns if (name !='Ins')&(name !='_PartInd_')]\n",
    "    cat_vars = df.columns[(df.dtypes=='object')&(df.columns !='Ins')&(df.columns !='_PartInd_')]\n",
    "    num_vars = [name for name in df.columns if (name not in cat_vars)&(name !='Ins')&(name !='_PartInd_')]\n",
    "\n",
    "    # categorical data를 dummy로 변경\n",
    "    x_dummy = pd.get_dummies(df[cat_vars], prefix_sep='_')\n",
    "    y_dummy = pd.get_dummies(df['Ins'], prefix_sep='_', drop_first=True)\n",
    "    \n",
    "    # numeric variable standardization\n",
    "    df[num_vars] = (df[num_vars] - np.mean(df[num_vars], axis=0)) / np.std(df[num_vars], axis=0)\n",
    "\n",
    "    # 최종 X, Y data set 생성\n",
    "    out_x = np.c_[df[num_vars].values, x_dummy.values].astype(np.float64)\n",
    "    out_y = y_dummy.values.ravel().astype(np.float64)\n",
    "#     out_y = y_dummy.values.ravel().astype(np.float64).reshape((-1,1))\n",
    "    \n",
    "    # 모든 변수 이름\n",
    "    feature_names = num_vars + x_dummy.columns.tolist()\n",
    "    \n",
    "    return out_x, out_y, feature_names\n",
    "\n",
    "\n",
    "(train_x, train_y, feature_names) = data_import(in_df='train_develop')\n",
    "(valid_x, valid_y, _) = data_import(in_df='valid_develop')\n",
    "(test_x, test_y, _) = data_import(in_df='test_develop')"
   ]
  },
  {
   "cell_type": "code",
   "execution_count": 17,
   "metadata": {},
   "outputs": [
    {
     "data": {
      "text/plain": [
       "(((19358, 84), (19358,)), ((9679, 84), (9679,)), ((3227, 84), (3227,)))"
      ]
     },
     "execution_count": 17,
     "metadata": {},
     "output_type": "execute_result"
    }
   ],
   "source": [
    "# check data shape\n",
    "((train_x.shape\n",
    ", train_y.shape),\n",
    " (valid_x.shape\n",
    ", valid_y.shape),\n",
    " (test_x.shape\n",
    ", test_y.shape))"
   ]
  },
  {
   "cell_type": "markdown",
   "metadata": {},
   "source": [
    "## 3. Deep Learning Architecture"
   ]
  },
  {
   "cell_type": "markdown",
   "metadata": {},
   "source": [
    "### 3.1. set up dataset with `tf.data`"
   ]
  },
  {
   "cell_type": "code",
   "execution_count": 18,
   "metadata": {},
   "outputs": [
    {
     "name": "stdout",
     "output_type": "stream",
     "text": [
      "<DatasetV1Adapter shapes: ((?, 84), (?,)), types: (tf.float64, tf.float64)>\n",
      "<DatasetV1Adapter shapes: ((?, 84), (?,)), types: (tf.float64, tf.float64)>\n",
      "<DatasetV1Adapter shapes: ((?, 84), (?,)), types: (tf.float64, tf.float64)>\n"
     ]
    }
   ],
   "source": [
    "# tensorflow 기본 hyperparameter설정\n",
    "tf.set_random_seed(1234)\n",
    "batch_size = 60\n",
    "max_epochs = 10\n",
    "\n",
    "# training set\n",
    "# data와 label을 tupple 형태로 넣어줘야 함 tupple:()\n",
    "train_dataset = tf.data.Dataset.from_tensor_slices((train_x, train_y))\n",
    "\n",
    "# random하게 train하기 위해 shuffle을 진행 (buffer_size는 크게 잡는다.)\n",
    "train_dataset = train_dataset.shuffle(buffer_size=10000, seed=1234)\n",
    "\n",
    "# batch size 설정\n",
    "train_dataset = train_dataset.batch(batch_size)\n",
    "\n",
    "print(train_dataset)\n",
    "\n",
    "# validation set\n",
    "valid_dataset = tf.data.Dataset.from_tensor_slices((valid_x, valid_y))\n",
    "valid_dataset = valid_dataset.shuffle(buffer_size=10000, seed=1234)\n",
    "valid_dataset = valid_dataset.batch(batch_size)\n",
    "print(valid_dataset)\n",
    "\n",
    "# test set\n",
    "test_dataset = tf.data.Dataset.from_tensor_slices((test_x, test_y))\n",
    "test_dataset = test_dataset.shuffle(buffer_size=10000, seed=1234)\n",
    "test_dataset = test_dataset.batch(batch_size)\n",
    "print(test_dataset)"
   ]
  },
  {
   "cell_type": "markdown",
   "metadata": {},
   "source": [
    "### 3.2. Create Model (Sequential Model)"
   ]
  },
  {
   "cell_type": "code",
   "execution_count": 19,
   "metadata": {},
   "outputs": [
    {
     "name": "stdout",
     "output_type": "stream",
     "text": [
      "\n",
      "WARNING: The TensorFlow contrib module will not be included in TensorFlow 2.0.\n",
      "For more information, please see:\n",
      "  * https://github.com/tensorflow/community/blob/master/rfcs/20180907-contrib-sunset.md\n",
      "  * https://github.com/tensorflow/addons\n",
      "If you depend on functionality not listed there, please file an issue.\n",
      "\n"
     ]
    }
   ],
   "source": [
    "# create sequential model\n",
    "seq_model = tf.keras.Sequential([\n",
    "    layers.Dropout(rate=0.2),\n",
    "    \n",
    "    layers.Dense(30, kernel_initializer=tf.contrib.layers.xavier_initializer(), \n",
    "                     kernel_regularizer=tf.keras.regularizers.l1_l2(l1=0.003, l2=0.002)),\n",
    "    layers.ReLU(),\n",
    "    layers.Dropout(rate=0.5),\n",
    "    \n",
    "    layers.Dense(20, kernel_initializer=tf.contrib.layers.xavier_initializer(), \n",
    "                     kernel_regularizer=tf.keras.regularizers.l1_l2(l1=0.003, l2=0.002)),\n",
    "    layers.ReLU(),\n",
    "    layers.Dropout(rate=0.5),\n",
    "    \n",
    "    layers.Dense(10, kernel_initializer=tf.contrib.layers.xavier_initializer(), \n",
    "                     kernel_regularizer=tf.keras.regularizers.l1_l2(l1=0.003, l2=0.002)),\n",
    "    layers.ReLU(),\n",
    "    layers.Dropout(rate=0.5),\n",
    "    \n",
    "    layers.Dense(5 , kernel_initializer=tf.contrib.layers.xavier_initializer(), \n",
    "                     kernel_regularizer=tf.keras.regularizers.l1_l2(l1=0.003, l2=0.002)),\n",
    "    layers.ReLU(),\n",
    "    layers.Dropout(rate=0.5),\n",
    "    \n",
    "    layers.Dense(10, kernel_initializer=tf.contrib.layers.xavier_initializer(), \n",
    "                     kernel_regularizer=tf.keras.regularizers.l1_l2(l1=0.003, l2=0.002)),\n",
    "    layers.ReLU(),\n",
    "    layers.Dropout(rate=0.5),\n",
    "    \n",
    "    layers.Dense(20, kernel_initializer=tf.contrib.layers.xavier_initializer(), \n",
    "                     kernel_regularizer=tf.keras.regularizers.l1_l2(l1=0.003, l2=0.002)),\n",
    "    layers.ReLU(),\n",
    "    layers.Dropout(rate=0.5),\n",
    "    \n",
    "    layers.Dense(30, kernel_initializer=tf.contrib.layers.xavier_initializer(), \n",
    "                     kernel_regularizer=tf.keras.regularizers.l1_l2(l1=0.003, l2=0.002)),\n",
    "    layers.ReLU(),\n",
    "    layers.Dropout(rate=0.5),\n",
    "    \n",
    "    layers.Dense(1, activation='sigmoid')\n",
    "])\n"
   ]
  },
  {
   "cell_type": "code",
   "execution_count": 20,
   "metadata": {},
   "outputs": [
    {
     "name": "stdout",
     "output_type": "stream",
     "text": [
      "WARNING:tensorflow:From C:\\ProgramData\\Anaconda3\\lib\\site-packages\\tensorflow\\python\\data\\ops\\iterator_ops.py:532: colocate_with (from tensorflow.python.framework.ops) is deprecated and will be removed in a future version.\n",
      "Instructions for updating:\n",
      "Colocations handled automatically by placer.\n",
      "Predictions:  [[0.49565205]]\n",
      "Predictions:  [[0.4964349]]\n"
     ]
    }
   ],
   "source": [
    "for df, labels in train_dataset.take(2):\n",
    "  print(\"Predictions: \", seq_model(df[0:1]).numpy())\n",
    "  predictions = seq_model(df, training=True)"
   ]
  },
  {
   "cell_type": "code",
   "execution_count": 21,
   "metadata": {},
   "outputs": [
    {
     "name": "stdout",
     "output_type": "stream",
     "text": [
      "(84, 30)\n",
      "(30,)\n",
      "(30, 20)\n",
      "(20,)\n",
      "(20, 10)\n",
      "(10,)\n",
      "(10, 5)\n",
      "(5,)\n",
      "(5, 10)\n",
      "(10,)\n",
      "(10, 20)\n",
      "(20,)\n",
      "(20, 30)\n",
      "(30,)\n",
      "(30, 1)\n",
      "(1,)\n"
     ]
    }
   ],
   "source": [
    "for var in seq_model.variables:\n",
    "    print(var.shape)"
   ]
  },
  {
   "cell_type": "code",
   "execution_count": 22,
   "metadata": {
    "scrolled": true
   },
   "outputs": [
    {
     "name": "stdout",
     "output_type": "stream",
     "text": [
      "_________________________________________________________________\n",
      "Layer (type)                 Output Shape              Param #   \n",
      "=================================================================\n",
      "dropout (Dropout)            multiple                  0         \n",
      "_________________________________________________________________\n",
      "dense (Dense)                multiple                  2550      \n",
      "_________________________________________________________________\n",
      "re_lu (ReLU)                 multiple                  0         \n",
      "_________________________________________________________________\n",
      "dropout_1 (Dropout)          multiple                  0         \n",
      "_________________________________________________________________\n",
      "dense_1 (Dense)              multiple                  620       \n",
      "_________________________________________________________________\n",
      "re_lu_1 (ReLU)               multiple                  0         \n",
      "_________________________________________________________________\n",
      "dropout_2 (Dropout)          multiple                  0         \n",
      "_________________________________________________________________\n",
      "dense_2 (Dense)              multiple                  210       \n",
      "_________________________________________________________________\n",
      "re_lu_2 (ReLU)               multiple                  0         \n",
      "_________________________________________________________________\n",
      "dropout_3 (Dropout)          multiple                  0         \n",
      "_________________________________________________________________\n",
      "dense_3 (Dense)              multiple                  55        \n",
      "_________________________________________________________________\n",
      "re_lu_3 (ReLU)               multiple                  0         \n",
      "_________________________________________________________________\n",
      "dropout_4 (Dropout)          multiple                  0         \n",
      "_________________________________________________________________\n",
      "dense_4 (Dense)              multiple                  60        \n",
      "_________________________________________________________________\n",
      "re_lu_4 (ReLU)               multiple                  0         \n",
      "_________________________________________________________________\n",
      "dropout_5 (Dropout)          multiple                  0         \n",
      "_________________________________________________________________\n",
      "dense_5 (Dense)              multiple                  220       \n",
      "_________________________________________________________________\n",
      "re_lu_5 (ReLU)               multiple                  0         \n",
      "_________________________________________________________________\n",
      "dropout_6 (Dropout)          multiple                  0         \n",
      "_________________________________________________________________\n",
      "dense_6 (Dense)              multiple                  630       \n",
      "_________________________________________________________________\n",
      "re_lu_6 (ReLU)               multiple                  0         \n",
      "_________________________________________________________________\n",
      "dropout_7 (Dropout)          multiple                  0         \n",
      "_________________________________________________________________\n",
      "dense_7 (Dense)              multiple                  31        \n",
      "=================================================================\n",
      "Total params: 4,376\n",
      "Trainable params: 4,376\n",
      "Non-trainable params: 0\n",
      "_________________________________________________________________\n"
     ]
    }
   ],
   "source": [
    "seq_model.summary()"
   ]
  },
  {
   "cell_type": "markdown",
   "metadata": {},
   "source": [
    "## 4. Deep Learning Training"
   ]
  },
  {
   "cell_type": "markdown",
   "metadata": {},
   "source": [
    "### Training Pseudo Code\n",
    "\n",
    "```python\n",
    "for epoch in max_epochs: # 1 epoch: 모든 데이터(N)를 한번 학습 시켰을 때\n",
    "  for step in num_batches: # num_batches = int(data_size / batch_size)\n",
    "    1. sampling mini-batches with batch_size\n",
    "      1-1. data augmentation [if you need (actually always)]\n",
    "    2. calculate the predictions # predictions = f(x)\n",
    "    3. calculate the loss # loss = loss(labels, predictions)\n",
    "    4. calculate the gradient with respect to weights\n",
    "    5. update weights\n",
    "```"
   ]
  },
  {
   "cell_type": "markdown",
   "metadata": {},
   "source": [
    "### 4.1. DL Training"
   ]
  },
  {
   "cell_type": "code",
   "execution_count": 23,
   "metadata": {},
   "outputs": [],
   "source": [
    "# use Adam optimizer\n",
    "optimizer = tf.train.AdamOptimizer()\n",
    "#optimizer = tf.keras.optimizers.SGD(0.5)\n",
    "\n",
    "# save loss history for plot\n",
    "cross_entropy_history = []\n",
    "l1_l2_loss_history = []\n",
    "total_loss_history = []"
   ]
  },
  {
   "cell_type": "code",
   "execution_count": 53,
   "metadata": {},
   "outputs": [
    {
     "name": "stdout",
     "output_type": "stream",
     "text": [
      "epochs: 10.00, step: 12920, loss: 0.694238, (2601.68 examples/sec; 0.023 sec/batch)\n",
      "training done!\n"
     ]
    }
   ],
   "source": [
    "global_step = tf.train.get_or_create_global_step()\n",
    "for epoch in range(max_epochs):\n",
    "    for (step, (df, labels)) in enumerate(train_dataset):\n",
    "        start_time = time.time()\n",
    "        with tf.GradientTape() as tape:\n",
    "            predictions = tf.reshape(seq_model(df, training=True), shape=[-1,])\n",
    "            \n",
    "            # l1 l2를 추가한 경우 loss에도 추가를 해야 함\n",
    "            cross_entropy = tf.losses.sigmoid_cross_entropy(labels, predictions)\n",
    "            l1_l2_loss = tf.reduce_sum(seq_model.losses)\n",
    "            total_loss = cross_entropy + l1_l2_loss\n",
    "            \n",
    "        grads = tape.gradient(total_loss, seq_model.variables)\n",
    "        optimizer.apply_gradients(zip(grads, seq_model.variables), global_step=global_step)\n",
    "        \n",
    "        cross_entropy_history.append(cross_entropy.numpy())\n",
    "        l1_l2_loss_history.append(l1_l2_loss.numpy())\n",
    "        total_loss_history.append(total_loss.numpy())\n",
    "        \n",
    "        if global_step.numpy() % 10 == 0:\n",
    "            clear_output(wait=True)\n",
    "            duration = time.time() - start_time\n",
    "            examples_per_sec = batch_size / float(duration)\n",
    "            epochs = epoch + step * batch_size / float(len(train_x))\n",
    "            print(\"epochs: {:.2f}, step: {}, loss: {:g}, ({:.2f} examples/sec; {:.3f} sec/batch)\".format(epochs, global_step.numpy(), total_loss, examples_per_sec, duration))\n",
    "\n",
    "print(\"training done!\")"
   ]
  },
  {
   "cell_type": "markdown",
   "metadata": {},
   "source": [
    "### 4.2. Loss function Plot"
   ]
  },
  {
   "cell_type": "code",
   "execution_count": 58,
   "metadata": {
    "scrolled": false
   },
   "outputs": [
    {
     "data": {
      "image/png": "[encoded data removed]",
      "text/plain": [
       "<Figure size 1080x216 with 3 Axes>"
      ]
     },
     "metadata": {
      "needs_background": "light"
     },
     "output_type": "display_data"
    }
   ],
   "source": [
    "plt.figure(figsize=(15, 3))\n",
    "\n",
    "plt.subplot(1, 3, 1)\n",
    "plt.subplots_adjust(hspace = 0.5, wspace = 0.3)\n",
    "#plt.set_title(\"cross_entropy\")\n",
    "plt.plot(cross_entropy_history, label='cross_entopy')\n",
    "plt.xlabel('Number of steps')\n",
    "plt.ylabel('Loss value [cross entropy]')\n",
    "plt.legend()\n",
    "\n",
    "plt.subplot(1, 3, 2)\n",
    "plt.subplots_adjust(hspace = 0.5, wspace = 0.3)\n",
    "#plt.set_title(\"l1_l2_loss\")\n",
    "plt.plot(l1_l2_loss_history, label='l1 l2_loss')\n",
    "plt.xlabel('Number of steps')\n",
    "plt.ylabel('Loss value [l1 l2 loss]')\n",
    "plt.legend()\n",
    "\n",
    "plt.subplot(1, 3, 3)\n",
    "plt.subplots_adjust(hspace = 0.5, wspace = 0.3)\n",
    "#plt.set_title(\"total_loss\")\n",
    "plt.plot(total_loss_history, label='total_loss')\n",
    "plt.xlabel('Number of steps')\n",
    "plt.ylabel('Total loss value [cross entropy + l1 l2 loss]')\n",
    "plt.legend()\n",
    "\n",
    "plt.show()"
   ]
  },
  {
   "cell_type": "markdown",
   "metadata": {},
   "source": [
    "### 4.3. Evaluate a model"
   ]
  },
  {
   "cell_type": "code",
   "execution_count": 62,
   "metadata": {},
   "outputs": [
    {
     "name": "stdout",
     "output_type": "stream",
     "text": [
      "test accuracy: 0.654\n"
     ]
    }
   ],
   "source": [
    "accuracy = tf.keras.metrics.Accuracy()\n",
    "\n",
    "for df, labels in test_dataset:\n",
    "    predictions = seq_model(df, training=False)\n",
    "    accuracy(labels, tf.argmax(predictions, axis=1))\n",
    "    \n",
    "print(\"test accuracy: {:.3f}\".format(accuracy.result()))"
   ]
  },
  {
   "cell_type": "markdown",
   "metadata": {},
   "source": [
    "## 5. Add Batch Normalization"
   ]
  },
  {
   "cell_type": "markdown",
   "metadata": {},
   "source": [
    "### 5.1. Renewal DL Architecture"
   ]
  },
  {
   "cell_type": "code",
   "execution_count": 63,
   "metadata": {},
   "outputs": [],
   "source": [
    "# create sequential model\n",
    "bn_model = tf.keras.Sequential([\n",
    "    layers.Dropout(rate=0.2),\n",
    "    \n",
    "    layers.Dense(30, kernel_initializer=tf.contrib.layers.xavier_initializer(), \n",
    "                     kernel_regularizer=tf.keras.regularizers.l1_l2(l1=0.003, l2=0.002)),\n",
    "    layers.BatchNormalization(),\n",
    "    layers.ReLU(),\n",
    "    layers.Dropout(rate=0.5),\n",
    "    \n",
    "    layers.Dense(20, kernel_initializer=tf.contrib.layers.xavier_initializer(), \n",
    "                     kernel_regularizer=tf.keras.regularizers.l1_l2(l1=0.003, l2=0.002)),\n",
    "    layers.BatchNormalization(),\n",
    "    layers.ReLU(),\n",
    "    layers.Dropout(rate=0.5),\n",
    "    \n",
    "    layers.Dense(10, kernel_initializer=tf.contrib.layers.xavier_initializer(), \n",
    "                     kernel_regularizer=tf.keras.regularizers.l1_l2(l1=0.003, l2=0.002)),\n",
    "    layers.BatchNormalization(),\n",
    "    layers.ReLU(),\n",
    "    layers.Dropout(rate=0.5),\n",
    "    \n",
    "    layers.Dense(5 , kernel_initializer=tf.contrib.layers.xavier_initializer(), \n",
    "                     kernel_regularizer=tf.keras.regularizers.l1_l2(l1=0.003, l2=0.002)),\n",
    "    layers.BatchNormalization(),\n",
    "    layers.ReLU(),\n",
    "    layers.Dropout(rate=0.5),\n",
    "    \n",
    "    layers.Dense(10, kernel_initializer=tf.contrib.layers.xavier_initializer(), \n",
    "                     kernel_regularizer=tf.keras.regularizers.l1_l2(l1=0.003, l2=0.002)),\n",
    "    layers.BatchNormalization(),\n",
    "    layers.ReLU(),\n",
    "    layers.Dropout(rate=0.5),\n",
    "    \n",
    "    layers.Dense(20, kernel_initializer=tf.contrib.layers.xavier_initializer(), \n",
    "                     kernel_regularizer=tf.keras.regularizers.l1_l2(l1=0.003, l2=0.002)),\n",
    "    layers.BatchNormalization(),\n",
    "    layers.ReLU(),\n",
    "    layers.Dropout(rate=0.5),\n",
    "    \n",
    "    layers.Dense(30, kernel_initializer=tf.contrib.layers.xavier_initializer(), \n",
    "                     kernel_regularizer=tf.keras.regularizers.l1_l2(l1=0.003, l2=0.002)),\n",
    "    layers.BatchNormalization(),\n",
    "    layers.ReLU(),\n",
    "    layers.Dropout(rate=0.5),\n",
    "    \n",
    "    layers.Dense(1, activation='sigmoid')\n",
    "])\n",
    "layers."
   ]
  },
  {
   "cell_type": "code",
   "execution_count": 65,
   "metadata": {},
   "outputs": [
    {
     "name": "stdout",
     "output_type": "stream",
     "text": [
      "Predictions:  [[0.54391305]]\n",
      "Predictions:  [[0.56964179]]\n"
     ]
    }
   ],
   "source": [
    "for df, labels in train_dataset.take(2):\n",
    "    print(\"Predictions: \", bn_model(df[0:1]).numpy())\n",
    "    predictions = seq_model(df, training=True)"
   ]
  },
  {
   "cell_type": "code",
   "execution_count": 66,
   "metadata": {},
   "outputs": [
    {
     "name": "stdout",
     "output_type": "stream",
     "text": [
      "_________________________________________________________________\n",
      "Layer (type)                 Output Shape              Param #   \n",
      "=================================================================\n",
      "dropout_8 (Dropout)          multiple                  0         \n",
      "_________________________________________________________________\n",
      "dense_8 (Dense)              multiple                  2550      \n",
      "_________________________________________________________________\n",
      "batch_normalization_v1 (Batc multiple                  120       \n",
      "_________________________________________________________________\n",
      "re_lu_7 (ReLU)               multiple                  0         \n",
      "_________________________________________________________________\n",
      "dropout_9 (Dropout)          multiple                  0         \n",
      "_________________________________________________________________\n",
      "dense_9 (Dense)              multiple                  620       \n",
      "_________________________________________________________________\n",
      "batch_normalization_v1_1 (Ba multiple                  80        \n",
      "_________________________________________________________________\n",
      "re_lu_8 (ReLU)               multiple                  0         \n",
      "_________________________________________________________________\n",
      "dropout_10 (Dropout)         multiple                  0         \n",
      "_________________________________________________________________\n",
      "dense_10 (Dense)             multiple                  210       \n",
      "_________________________________________________________________\n",
      "batch_normalization_v1_2 (Ba multiple                  40        \n",
      "_________________________________________________________________\n",
      "re_lu_9 (ReLU)               multiple                  0         \n",
      "_________________________________________________________________\n",
      "dropout_11 (Dropout)         multiple                  0         \n",
      "_________________________________________________________________\n",
      "dense_11 (Dense)             multiple                  55        \n",
      "_________________________________________________________________\n",
      "batch_normalization_v1_3 (Ba multiple                  20        \n",
      "_________________________________________________________________\n",
      "re_lu_10 (ReLU)              multiple                  0         \n",
      "_________________________________________________________________\n",
      "dropout_12 (Dropout)         multiple                  0         \n",
      "_________________________________________________________________\n",
      "dense_12 (Dense)             multiple                  60        \n",
      "_________________________________________________________________\n",
      "batch_normalization_v1_4 (Ba multiple                  40        \n",
      "_________________________________________________________________\n",
      "re_lu_11 (ReLU)              multiple                  0         \n",
      "_________________________________________________________________\n",
      "dropout_13 (Dropout)         multiple                  0         \n",
      "_________________________________________________________________\n",
      "dense_13 (Dense)             multiple                  220       \n",
      "_________________________________________________________________\n",
      "batch_normalization_v1_5 (Ba multiple                  80        \n",
      "_________________________________________________________________\n",
      "re_lu_12 (ReLU)              multiple                  0         \n",
      "_________________________________________________________________\n",
      "dropout_14 (Dropout)         multiple                  0         \n",
      "_________________________________________________________________\n",
      "dense_14 (Dense)             multiple                  630       \n",
      "_________________________________________________________________\n",
      "batch_normalization_v1_6 (Ba multiple                  120       \n",
      "_________________________________________________________________\n",
      "re_lu_13 (ReLU)              multiple                  0         \n",
      "_________________________________________________________________\n",
      "dropout_15 (Dropout)         multiple                  0         \n",
      "_________________________________________________________________\n",
      "dense_15 (Dense)             multiple                  31        \n",
      "=================================================================\n",
      "Total params: 4,876\n",
      "Trainable params: 4,626\n",
      "Non-trainable params: 250\n",
      "_________________________________________________________________\n"
     ]
    }
   ],
   "source": [
    "bn_model.summary()"
   ]
  },
  {
   "cell_type": "markdown",
   "metadata": {},
   "source": [
    "### 5.2. Re-Training"
   ]
  },
  {
   "cell_type": "code",
   "execution_count": 67,
   "metadata": {},
   "outputs": [],
   "source": [
    "# use Adam optimizer\n",
    "optimizer = tf.train.AdamOptimizer()\n",
    "#optimizer = tf.keras.optimizers.SGD(0.5)\n",
    "\n",
    "# save loss history for plot\n",
    "cross_entropy_history = []\n",
    "l1_l2_loss_history = []\n",
    "total_loss_history = []"
   ]
  },
  {
   "cell_type": "code",
   "execution_count": 68,
   "metadata": {},
   "outputs": [
    {
     "name": "stdout",
     "output_type": "stream",
     "text": [
      "epochs: 10.00, step: 16150, loss: 0.694363, (973.56 examples/sec; 0.062 sec/batch)\n",
      "training done!\n"
     ]
    }
   ],
   "source": [
    "global_step = tf.train.get_or_create_global_step()\n",
    "for epoch in range(max_epochs):\n",
    "    for (step, (df, labels)) in enumerate(train_dataset):\n",
    "        start_time = time.time()\n",
    "        with tf.GradientTape() as tape:\n",
    "            predictions = tf.reshape(bn_model(df, training=True), shape=[-1,])\n",
    "            \n",
    "            # l1 l2를 추가한 경우 loss에도 추가를 해야 함\n",
    "            cross_entropy = tf.losses.sigmoid_cross_entropy(labels, predictions)\n",
    "            l1_l2_loss = tf.reduce_sum(bn_model.losses)\n",
    "            total_loss = cross_entropy + l1_l2_loss\n",
    "            \n",
    "        grads = tape.gradient(total_loss, bn_model.variables)\n",
    "        optimizer.apply_gradients(zip(grads, bn_model.variables), global_step=global_step)\n",
    "        \n",
    "        cross_entropy_history.append(cross_entropy.numpy())\n",
    "        l1_l2_loss_history.append(l1_l2_loss.numpy())\n",
    "        total_loss_history.append(total_loss.numpy())\n",
    "        \n",
    "        if global_step.numpy() % 10 == 0:\n",
    "            clear_output(wait=True)\n",
    "            duration = time.time() - start_time\n",
    "            examples_per_sec = batch_size / float(duration)\n",
    "            epochs = epoch + step * batch_size / float(len(train_x))\n",
    "            print(\"epochs: {:.2f}, step: {}, loss: {:g}, ({:.2f} examples/sec; {:.3f} sec/batch)\".format(epochs, global_step.numpy(), total_loss, examples_per_sec, duration))\n",
    "\n",
    "print(\"training done!\")"
   ]
  },
  {
   "cell_type": "markdown",
   "metadata": {},
   "source": [
    "### 5.3. Batch-Norm loss plot"
   ]
  },
  {
   "cell_type": "code",
   "execution_count": 70,
   "metadata": {
    "scrolled": true
   },
   "outputs": [
    {
     "data": {
      "image/png": "[encoded data removed]",
      "text/plain": [
       "<Figure size 1080x216 with 3 Axes>"
      ]
     },
     "metadata": {
      "needs_background": "light"
     },
     "output_type": "display_data"
    }
   ],
   "source": [
    "plt.figure(figsize=(15, 3))\n",
    "\n",
    "plt.subplot(1, 3, 1)\n",
    "plt.subplots_adjust(hspace = 0.5, wspace = 0.3)\n",
    "#plt.set_title(\"cross_entropy\")\n",
    "plt.plot(cross_entropy_history, label='cross_entopy')\n",
    "plt.xlabel('Number of steps')\n",
    "plt.ylabel('Loss value [cross entropy]')\n",
    "plt.legend()\n",
    "\n",
    "plt.subplot(1, 3, 2)\n",
    "plt.subplots_adjust(hspace = 0.5, wspace = 0.3)\n",
    "#plt.set_title(\"l1_l2_loss\")\n",
    "plt.plot(l1_l2_loss_history, label='l1 l2_loss')\n",
    "plt.xlabel('Number of steps')\n",
    "plt.ylabel('Loss value [l1 l2 loss]')\n",
    "plt.legend()\n",
    "\n",
    "plt.subplot(1, 3, 3)\n",
    "plt.subplots_adjust(hspace = 0.5, wspace = 0.3)\n",
    "#plt.set_title(\"total_loss\")\n",
    "plt.plot(total_loss_history, label='total_loss')\n",
    "plt.xlabel('Number of steps')\n",
    "plt.ylabel('Total loss value [cross entropy + l1 l2 loss]')\n",
    "plt.legend()\n",
    "\n",
    "plt.show()"
   ]
  },
  {
   "cell_type": "markdown",
   "metadata": {},
   "source": [
    "### 5.4. Evaluate a batch-norm model"
   ]
  },
  {
   "cell_type": "code",
   "execution_count": 71,
   "metadata": {},
   "outputs": [
    {
     "name": "stdout",
     "output_type": "stream",
     "text": [
      "test accuracy: 0.654\n"
     ]
    }
   ],
   "source": [
    "accuracy = tf.keras.metrics.Accuracy()\n",
    "\n",
    "for df, labels in test_dataset:\n",
    "    predictions = bn_model(df, training=False)\n",
    "    accuracy(labels, tf.argmax(predictions, axis=1))\n",
    "    \n",
    "print(\"test accuracy: {:.3f}\".format(accuracy.result()))"
   ]
  },
  {
   "cell_type": "markdown",
   "metadata": {},
   "source": [
    "## 6. Deep Learning Architecture using CLASS"
   ]
  },
  {
   "cell_type": "markdown",
   "metadata": {},
   "source": [
    "### 6.1. Build Class Model"
   ]
  },
  {
   "cell_type": "code",
   "execution_count": 81,
   "metadata": {},
   "outputs": [],
   "source": [
    "class class_model(tf.keras.Model):\n",
    "    def __init__(self):\n",
    "        super(class_model, self).__init__() # 부모 class를 받아서 initialize한다\n",
    "        \n",
    "        self.l1_decay = 0.003\n",
    "        self.l2_decay = 0.002\n",
    "        \n",
    "        self.input_drp  = layers.Dropout(rate=0.2)\n",
    "        \n",
    "        self.dense1     = layers.Dense(20, kernel_initializer=tf.contrib.layers.xavier_initializer()\n",
    "                                      , kernel_regularizer=tf.keras.regularizers.l1_l2(l1=self.l1_decay, l2=self.l2_decay))\n",
    "        self.dense1_bn  = layers.BatchNormalization()\n",
    "        self.dense1_act = layers.ReLU()\n",
    "        self.dense1_drp = layers.Dropout(rate=0.5)\n",
    "        \n",
    "        self.dense2     = layers.Dense(20, kernel_initializer=tf.contrib.layers.xavier_initializer()\n",
    "                                      , kernel_regularizer=tf.keras.regularizers.l1_l2(l1=self.l1_decay, l2=self.l2_decay))\n",
    "        self.dense2_bn  = layers.BatchNormalization()\n",
    "        self.dense2_act = layers.ReLU()\n",
    "        self.dense2_drp = layers.Dropout(rate=0.5)\n",
    "        \n",
    "        self.dense3     = layers.Dense(10, kernel_initializer=tf.contrib.layers.xavier_initializer()\n",
    "                                      , kernel_regularizer=tf.keras.regularizers.l1_l2(l1=self.l1_decay, l2=self.l2_decay))\n",
    "        self.dense3_bn  = layers.BatchNormalization()\n",
    "        self.dense3_act = layers.ReLU()\n",
    "        self.dense3_drp = layers.Dropout(rate=0.5)\n",
    "        \n",
    "        self.logits     = layers.Dense(1, activation='sigmoid')\n",
    "        \n",
    "    def call(self, inputs, training=True):\n",
    "        \n",
    "        inputs_  = self.input_drp(inputs)\n",
    "        \n",
    "        dense1_ = self.dense1(inputs_)\n",
    "        dense1_ = self.dense1_bn(dense1_, training=training)\n",
    "        dense1_ = self.dense1_act(dense1_)\n",
    "        dense1_ = self.dense1_drp(dense1_)\n",
    "        \n",
    "        dense2_ = self.dense2(dense1_)\n",
    "        dense2_ = self.dense2_bn(dense2_, training=training)\n",
    "        dense2_ = self.dense2_act(dense2_)\n",
    "        dense2_ = self.dense2_drp(dense2_)\n",
    "        \n",
    "        dense3_ = self.dense3(dense2_)\n",
    "        dense3_ = self.dense3_bn(dense3_, training=training)\n",
    "        dense3_ = self.dense3_act(dense3_)\n",
    "        dense3_ = self.dense3_drp(dense3_)\n",
    "        \n",
    "        logits_ = self.logits(dense3_)\n",
    "        \n",
    "        return logits_\n"
   ]
  },
  {
   "cell_type": "code",
   "execution_count": 82,
   "metadata": {},
   "outputs": [],
   "source": [
    "model = class_model()"
   ]
  },
  {
   "cell_type": "code",
   "execution_count": 84,
   "metadata": {},
   "outputs": [
    {
     "name": "stdout",
     "output_type": "stream",
     "text": [
      "Logits:  (60, 1) (60, 1)\n"
     ]
    }
   ],
   "source": [
    "for images, labels in train_dataset.take(1):\n",
    "    print(\"Logits: \", model(images).shape, tf.reshape(labels, shape=[-1,1]).shape)"
   ]
  },
  {
   "cell_type": "code",
   "execution_count": 85,
   "metadata": {},
   "outputs": [
    {
     "name": "stdout",
     "output_type": "stream",
     "text": [
      "_________________________________________________________________\n",
      "Layer (type)                 Output Shape              Param #   \n",
      "=================================================================\n",
      "dropout_20 (Dropout)         multiple                  0         \n",
      "_________________________________________________________________\n",
      "dense_20 (Dense)             multiple                  1700      \n",
      "_________________________________________________________________\n",
      "batch_normalization_v1_10 (B multiple                  80        \n",
      "_________________________________________________________________\n",
      "re_lu_17 (ReLU)              multiple                  0         \n",
      "_________________________________________________________________\n",
      "dropout_21 (Dropout)         multiple                  0         \n",
      "_________________________________________________________________\n",
      "dense_21 (Dense)             multiple                  420       \n",
      "_________________________________________________________________\n",
      "batch_normalization_v1_11 (B multiple                  80        \n",
      "_________________________________________________________________\n",
      "re_lu_18 (ReLU)              multiple                  0         \n",
      "_________________________________________________________________\n",
      "dropout_22 (Dropout)         multiple                  0         \n",
      "_________________________________________________________________\n",
      "dense_22 (Dense)             multiple                  210       \n",
      "_________________________________________________________________\n",
      "batch_normalization_v1_12 (B multiple                  40        \n",
      "_________________________________________________________________\n",
      "re_lu_19 (ReLU)              multiple                  0         \n",
      "_________________________________________________________________\n",
      "dropout_23 (Dropout)         multiple                  0         \n",
      "_________________________________________________________________\n",
      "dense_23 (Dense)             multiple                  11        \n",
      "=================================================================\n",
      "Total params: 2,541\n",
      "Trainable params: 2,441\n",
      "Non-trainable params: 100\n",
      "_________________________________________________________________\n"
     ]
    }
   ],
   "source": [
    "model.summary()"
   ]
  },
  {
   "cell_type": "markdown",
   "metadata": {},
   "source": [
    "### 6.2. Training Class Model"
   ]
  },
  {
   "cell_type": "code",
   "execution_count": 86,
   "metadata": {},
   "outputs": [],
   "source": [
    "optimizer = tf.train.AdamOptimizer(learning_rate=0.001, beta1=0.9, beta2=0.999)\n",
    "\n",
    "cross_entropy_history = []\n",
    "l1_l2_loss_history = []\n",
    "total_loss_history = []"
   ]
  },
  {
   "cell_type": "code",
   "execution_count": 77,
   "metadata": {
    "scrolled": true
   },
   "outputs": [
    {
     "name": "stdout",
     "output_type": "stream",
     "text": [
      "epochs: 60.07, step: 19380, loss: 0.693908, (2258.12 examples/sec: 0.027 sec/batch)\n",
      "training done\n"
     ]
    }
   ],
   "source": [
    "global_step = tf.train.get_or_create_global_step()\n",
    "for epoch in range(max_epochs):\n",
    "    for (step, (df, labels)) in enumerate(train_dataset):\n",
    "        start_time = time.time()\n",
    "        \n",
    "        # calculate the predictions and loss\n",
    "        with tf.GradientTape() as tape:\n",
    "            logits = tf.reshape(model(df), shape=[-1,])\n",
    "            cross_entropy = tf.losses.sigmoid_cross_entropy(labels, logits)\n",
    "            l1_l2_loss = tf.reduce_sum(model.losses)\n",
    "            total_loss = cross_entropy + l1_l2_loss\n",
    "        \n",
    "        # create loss history table \n",
    "        cross_entropy_history.append(cross_entropy.numpy())\n",
    "        l1_l2_loss_history.append(l1_l2_loss.numpy())\n",
    "        total_loss_history.append(total_loss.numpy())\n",
    "        \n",
    "        # weight optimization\n",
    "        grads = tape.gradient(total_loss, model.variables)\n",
    "        optimizer.apply_gradients(zip(grads, model.variables), global_step=global_step)\n",
    "        \n",
    "        if global_step.numpy() % 10 == 0:\n",
    "            clear_output(wait=True)\n",
    "            duration = time.time() - start_time\n",
    "            examples_per_sec = batch_size / float(duration)\n",
    "            epochs = epoch + step * batch_size / float(len(train_x))\n",
    "            print(\"epochs: {:.2f}, step: {}, loss: {:g}, ({:.2f} examples/sec; {:.3f} sec/batch)\".format(epochs, global_step.numpy(), total_loss, examples_per_sec, duration))\n",
    "        \n",
    "print(\"training done\")"
   ]
  },
  {
   "cell_type": "markdown",
   "metadata": {},
   "source": [
    "### 6.3. Loss function Plot"
   ]
  },
  {
   "cell_type": "code",
   "execution_count": 78,
   "metadata": {},
   "outputs": [
    {
     "data": {
      "image/png": "[encoded data removed]",
      "text/plain": [
       "<Figure size 1080x216 with 3 Axes>"
      ]
     },
     "metadata": {
      "needs_background": "light"
     },
     "output_type": "display_data"
    }
   ],
   "source": [
    "plt.figure(figsize=(15, 3))\n",
    "\n",
    "plt.subplot(1, 3, 1)\n",
    "plt.subplots_adjust(hspace = 0.5, wspace = 0.3)\n",
    "#plt.set_title(\"cross_entropy\")\n",
    "plt.plot(cross_entropy_history, label='cross_entopy')\n",
    "plt.xlabel('Number of steps')\n",
    "plt.ylabel('Loss value [cross entropy]')\n",
    "plt.legend()\n",
    "\n",
    "plt.subplot(1, 3, 2)\n",
    "plt.subplots_adjust(hspace = 0.5, wspace = 0.3)\n",
    "#plt.set_title(\"l1_l2_loss\")\n",
    "plt.plot(l1_l2_loss_history, label='l1 l2_loss')\n",
    "plt.xlabel('Number of steps')\n",
    "plt.ylabel('Loss value [l1 l2 loss]')\n",
    "plt.legend()\n",
    "\n",
    "plt.subplot(1, 3, 3)\n",
    "plt.subplots_adjust(hspace = 0.5, wspace = 0.3)\n",
    "#plt.set_title(\"total_loss\")\n",
    "plt.plot(total_loss_history, label='total_loss')\n",
    "plt.xlabel('Number of steps')\n",
    "plt.ylabel('Total loss value [cross entropy + l1 l2 loss]')\n",
    "plt.legend()\n",
    "\n",
    "plt.show()"
   ]
  },
  {
   "cell_type": "markdown",
   "metadata": {},
   "source": [
    "### 6.4. Evaluate Class Model"
   ]
  },
  {
   "cell_type": "code",
   "execution_count": 87,
   "metadata": {},
   "outputs": [
    {
     "name": "stdout",
     "output_type": "stream",
     "text": [
      "test accuracy: 0.654\n"
     ]
    }
   ],
   "source": [
    "accuracy = tf.keras.metrics.Accuracy()\n",
    "\n",
    "for df, labels in test_dataset:\n",
    "    predictions = model(df, training=False)\n",
    "    accuracy(labels, tf.argmax(predictions, axis=1))\n",
    "    \n",
    "print(\"test accuracy: {:.3f}\".format(accuracy.result()))"
   ]
  }
 ],
 "metadata": {
  "kernelspec": {
   "display_name": "Python 3",
   "language": "python",
   "name": "python3"
  },
  "language_info": {
   "codemirror_mode": {
    "name": "ipython",
    "version": 3
   },
   "file_extension": ".py",
   "mimetype": "text/x-python",
   "name": "python",
   "nbconvert_exporter": "python",
   "pygments_lexer": "ipython3",
   "version": "3.6.8"
  }
 },
 "nbformat": 4,
 "nbformat_minor": 2
}
